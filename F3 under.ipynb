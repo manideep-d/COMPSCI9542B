{
 "cells": [
  {
   "cell_type": "code",
   "execution_count": 63,
   "metadata": {
    "id": "kKKu1y-UZfJZ"
   },
   "outputs": [],
   "source": [
    "import pandas as pd\n",
    "import numpy as np\n",
    "import matplotlib.pyplot as plt\n",
    "from sklearn.model_selection import train_test_split\n",
    "from sklearn.preprocessing import StandardScaler\n",
    "from sklearn.metrics import accuracy_score, confusion_matrix, classification_report,precision_score,recall_score,f1_score,roc_curve,auc\n",
    "from sklearn.ensemble import RandomForestClassifier\n",
    "from sklearn.metrics import mean_squared_error\n",
    "import matplotlib.pyplot as plt\n",
    "from matplotlib.legend_handler import HandlerLine2D\n",
    "from sklearn import preprocessing\n",
    "from sklearn.decomposition import PCA\n",
    "import imblearn\n",
    "from imblearn.over_sampling import SMOTE\n",
    "from imblearn.under_sampling import RandomUnderSampler\n",
    "import seaborn as sns\n",
    "%matplotlib inline"
   ]
  },
  {
   "cell_type": "code",
   "execution_count": 64,
   "metadata": {
    "id": "mJQmzA3WZm5O"
   },
   "outputs": [],
   "source": [
    "data = pd.read_csv('data.csv')"
   ]
  },
  {
   "cell_type": "code",
   "execution_count": 65,
   "metadata": {
    "colab": {
     "base_uri": "https://localhost:8080/"
    },
    "id": "owcTQJ68Z_Zk",
    "outputId": "622bd9b6-bb34-4d03-f0db-d3c4525d68f7"
   },
   "outputs": [
    {
     "data": {
      "text/plain": [
       "(6362620, 11)"
      ]
     },
     "execution_count": 65,
     "metadata": {},
     "output_type": "execute_result"
    }
   ],
   "source": [
    "data.shape"
   ]
  },
  {
   "cell_type": "code",
   "execution_count": 66,
   "metadata": {
    "id": "ps_XNoJ0aHNF"
   },
   "outputs": [],
   "source": [
    "data=data.drop(['nameOrig', 'nameDest'], axis = 1)"
   ]
  },
  {
   "cell_type": "code",
   "execution_count": 67,
   "metadata": {
    "id": "CtUAsoF4aMEw"
   },
   "outputs": [],
   "source": [
    "data=data.loc[(data['type']== 'TRANSFER') | (data['type']== 'CASH_OUT') , :]"
   ]
  },
  {
   "cell_type": "code",
   "execution_count": 68,
   "metadata": {
    "colab": {
     "base_uri": "https://localhost:8080/"
    },
    "id": "_9Y1Q-9WaO8p",
    "outputId": "76912828-3525-4311-946e-34e6d4d048b1"
   },
   "outputs": [
    {
     "data": {
      "text/plain": [
       "(2770409, 9)"
      ]
     },
     "execution_count": 68,
     "metadata": {},
     "output_type": "execute_result"
    }
   ],
   "source": [
    "data.shape"
   ]
  },
  {
   "cell_type": "code",
   "execution_count": 69,
   "metadata": {
    "id": "cCQBKN5daSPL"
   },
   "outputs": [],
   "source": [
    "data=pd.get_dummies(data, columns=['type'], prefix = ['type'])"
   ]
  },
  {
   "cell_type": "code",
   "execution_count": 70,
   "metadata": {
    "colab": {
     "base_uri": "https://localhost:8080/",
     "height": 200
    },
    "id": "MS1bpcxLaVM9",
    "outputId": "8311ad93-d32d-4c65-e7cc-b4f194dbe193"
   },
   "outputs": [
    {
     "data": {
      "text/html": [
       "<div>\n",
       "<style scoped>\n",
       "    .dataframe tbody tr th:only-of-type {\n",
       "        vertical-align: middle;\n",
       "    }\n",
       "\n",
       "    .dataframe tbody tr th {\n",
       "        vertical-align: top;\n",
       "    }\n",
       "\n",
       "    .dataframe thead th {\n",
       "        text-align: right;\n",
       "    }\n",
       "</style>\n",
       "<table border=\"1\" class=\"dataframe\">\n",
       "  <thead>\n",
       "    <tr style=\"text-align: right;\">\n",
       "      <th></th>\n",
       "      <th>step</th>\n",
       "      <th>amount</th>\n",
       "      <th>oldbalanceOrg</th>\n",
       "      <th>newbalanceOrig</th>\n",
       "      <th>oldbalanceDest</th>\n",
       "      <th>newbalanceDest</th>\n",
       "      <th>isFraud</th>\n",
       "      <th>isFlaggedFraud</th>\n",
       "      <th>type_CASH_OUT</th>\n",
       "      <th>type_TRANSFER</th>\n",
       "    </tr>\n",
       "  </thead>\n",
       "  <tbody>\n",
       "    <tr>\n",
       "      <th>2</th>\n",
       "      <td>1</td>\n",
       "      <td>181.00</td>\n",
       "      <td>181.0</td>\n",
       "      <td>0.0</td>\n",
       "      <td>0.0</td>\n",
       "      <td>0.00</td>\n",
       "      <td>1</td>\n",
       "      <td>0</td>\n",
       "      <td>0</td>\n",
       "      <td>1</td>\n",
       "    </tr>\n",
       "    <tr>\n",
       "      <th>3</th>\n",
       "      <td>1</td>\n",
       "      <td>181.00</td>\n",
       "      <td>181.0</td>\n",
       "      <td>0.0</td>\n",
       "      <td>21182.0</td>\n",
       "      <td>0.00</td>\n",
       "      <td>1</td>\n",
       "      <td>0</td>\n",
       "      <td>1</td>\n",
       "      <td>0</td>\n",
       "    </tr>\n",
       "    <tr>\n",
       "      <th>15</th>\n",
       "      <td>1</td>\n",
       "      <td>229133.94</td>\n",
       "      <td>15325.0</td>\n",
       "      <td>0.0</td>\n",
       "      <td>5083.0</td>\n",
       "      <td>51513.44</td>\n",
       "      <td>0</td>\n",
       "      <td>0</td>\n",
       "      <td>1</td>\n",
       "      <td>0</td>\n",
       "    </tr>\n",
       "    <tr>\n",
       "      <th>19</th>\n",
       "      <td>1</td>\n",
       "      <td>215310.30</td>\n",
       "      <td>705.0</td>\n",
       "      <td>0.0</td>\n",
       "      <td>22425.0</td>\n",
       "      <td>0.00</td>\n",
       "      <td>0</td>\n",
       "      <td>0</td>\n",
       "      <td>0</td>\n",
       "      <td>1</td>\n",
       "    </tr>\n",
       "    <tr>\n",
       "      <th>24</th>\n",
       "      <td>1</td>\n",
       "      <td>311685.89</td>\n",
       "      <td>10835.0</td>\n",
       "      <td>0.0</td>\n",
       "      <td>6267.0</td>\n",
       "      <td>2719172.89</td>\n",
       "      <td>0</td>\n",
       "      <td>0</td>\n",
       "      <td>0</td>\n",
       "      <td>1</td>\n",
       "    </tr>\n",
       "  </tbody>\n",
       "</table>\n",
       "</div>"
      ],
      "text/plain": [
       "    step     amount  oldbalanceOrg  newbalanceOrig  oldbalanceDest  \\\n",
       "2      1     181.00          181.0             0.0             0.0   \n",
       "3      1     181.00          181.0             0.0         21182.0   \n",
       "15     1  229133.94        15325.0             0.0          5083.0   \n",
       "19     1  215310.30          705.0             0.0         22425.0   \n",
       "24     1  311685.89        10835.0             0.0          6267.0   \n",
       "\n",
       "    newbalanceDest  isFraud  isFlaggedFraud  type_CASH_OUT  type_TRANSFER  \n",
       "2             0.00        1               0              0              1  \n",
       "3             0.00        1               0              1              0  \n",
       "15        51513.44        0               0              1              0  \n",
       "19            0.00        0               0              0              1  \n",
       "24      2719172.89        0               0              0              1  "
      ]
     },
     "execution_count": 70,
     "metadata": {},
     "output_type": "execute_result"
    }
   ],
   "source": [
    "data.head()"
   ]
  },
  {
   "cell_type": "code",
   "execution_count": 71,
   "metadata": {
    "id": "HQnuVP2egWef"
   },
   "outputs": [],
   "source": [
    "dum=data.loc[(data['isFraud']== 1) , :]"
   ]
  },
  {
   "cell_type": "code",
   "execution_count": 72,
   "metadata": {
    "colab": {
     "base_uri": "https://localhost:8080/"
    },
    "id": "Xk5RuEEpghas",
    "outputId": "6c45a067-90c4-4a32-8817-20338a96ff19"
   },
   "outputs": [
    {
     "data": {
      "text/plain": [
       "(8213, 10)"
      ]
     },
     "execution_count": 72,
     "metadata": {},
     "output_type": "execute_result"
    }
   ],
   "source": [
    "dum.shape"
   ]
  },
  {
   "cell_type": "code",
   "execution_count": 73,
   "metadata": {
    "id": "KP7ulhMoadGZ"
   },
   "outputs": [],
   "source": [
    "# Features\n",
    "X=data[['step','amount','oldbalanceOrg','oldbalanceDest','isFlaggedFraud','type_CASH_OUT','type_TRANSFER']]  \n",
    "\n",
    "# Labels\n",
    "y=data['isFraud'] \n",
    "\n",
    "# Split dataset into training set validation set and test set with a ratio of 70%,15%,15%\n",
    "\n",
    "X_train, X_test, y_train, y_test = train_test_split( X, y, stratify=y , test_size=0.30, random_state=12)\n",
    "X_val, X_test, y_val, y_test = train_test_split(X_test, y_test, stratify=y_test , test_size=0.50, random_state=12)"
   ]
  },
  {
   "cell_type": "code",
   "execution_count": 74,
   "metadata": {
    "colab": {
     "base_uri": "https://localhost:8080/"
    },
    "id": "jS4DBoD_yOt5",
    "outputId": "493eed99-8a2d-48a2-c02b-4fd6e2caea81"
   },
   "outputs": [
    {
     "data": {
      "text/plain": [
       "(1939286, 7)"
      ]
     },
     "execution_count": 74,
     "metadata": {},
     "output_type": "execute_result"
    }
   ],
   "source": [
    "X_train.shape"
   ]
  },
  {
   "cell_type": "code",
   "execution_count": 75,
   "metadata": {
    "id": "yOLXM3VXaglD"
   },
   "outputs": [],
   "source": [
    "u_sample = RandomUnderSampler(sampling_strategy='majority',random_state=12)"
   ]
  },
  {
   "cell_type": "code",
   "execution_count": 76,
   "metadata": {
    "colab": {
     "base_uri": "https://localhost:8080/"
    },
    "id": "Kv7CkakLbB-0",
    "outputId": "78fd0845-f632-4bf4-bf1c-bf61c470295a"
   },
   "outputs": [],
   "source": [
    "X_train_u, y_train_u = u_sample.fit_resample(X_train, y_train)"
   ]
  },
  {
   "cell_type": "code",
   "execution_count": 77,
   "metadata": {
    "colab": {
     "base_uri": "https://localhost:8080/"
    },
    "id": "axQpc4ERxbGG",
    "outputId": "46f90247-704b-4e6a-fee0-724924fc1ed2"
   },
   "outputs": [
    {
     "data": {
      "text/plain": [
       "(11498, 7)"
      ]
     },
     "execution_count": 77,
     "metadata": {},
     "output_type": "execute_result"
    }
   ],
   "source": [
    "X_train_u.shape"
   ]
  },
  {
   "cell_type": "code",
   "execution_count": 78,
   "metadata": {
    "id": "EIB3M_i21NHW"
   },
   "outputs": [],
   "source": [
    "y_train_u=np.array([y_train_u])"
   ]
  },
  {
   "cell_type": "code",
   "execution_count": 79,
   "metadata": {
    "id": "_41a_sA103C_"
   },
   "outputs": [],
   "source": [
    "y_train_u=y_train_u.T\n"
   ]
  },
  {
   "cell_type": "code",
   "execution_count": 80,
   "metadata": {
    "colab": {
     "base_uri": "https://localhost:8080/"
    },
    "id": "CGJNNemT18Xx",
    "outputId": "8b872697-ee07-4afc-b646-ad9c457b08c3"
   },
   "outputs": [
    {
     "data": {
      "text/plain": [
       "(11498, 1)"
      ]
     },
     "execution_count": 80,
     "metadata": {},
     "output_type": "execute_result"
    }
   ],
   "source": [
    "y_train_u.shape"
   ]
  },
  {
   "cell_type": "code",
   "execution_count": 81,
   "metadata": {
    "colab": {
     "base_uri": "https://localhost:8080/"
    },
    "id": "Kg1p8NWeeqLD",
    "outputId": "85132d56-6647-4a17-d6ce-8bd8e46fdaab"
   },
   "outputs": [],
   "source": [
    "for i in range(1,170):\n",
    "  u_sample = RandomUnderSampler(sampling_strategy='majority',random_state=i)\n",
    "  X, y = u_sample.fit_resample(X_train, y_train)\n",
    "  y=np.array([y])\n",
    "  y=y.T\n",
    "  X_train_u = np.vstack((X_train_u, X))\n",
    "  y_train_u = np.vstack((y_train_u, y))"
   ]
  },
  {
   "cell_type": "code",
   "execution_count": 82,
   "metadata": {
    "colab": {
     "base_uri": "https://localhost:8080/"
    },
    "id": "EDKmm9pQccF2",
    "outputId": "b9d695a2-0cce-42b2-e19d-0e973c902432"
   },
   "outputs": [
    {
     "data": {
      "text/plain": [
       "(1954660, 7)"
      ]
     },
     "execution_count": 82,
     "metadata": {},
     "output_type": "execute_result"
    }
   ],
   "source": [
    "X_train_u.shape"
   ]
  },
  {
   "cell_type": "code",
   "execution_count": 83,
   "metadata": {
    "colab": {
     "base_uri": "https://localhost:8080/"
    },
    "id": "gh7tOCx6475C",
    "outputId": "7fc5c1c6-5ce5-4fd1-99ee-9410bc1c230d"
   },
   "outputs": [
    {
     "data": {
      "text/plain": [
       "(1954660, 1)"
      ]
     },
     "execution_count": 83,
     "metadata": {},
     "output_type": "execute_result"
    }
   ],
   "source": [
    "y_train_u.shape"
   ]
  },
  {
   "cell_type": "code",
   "execution_count": 84,
   "metadata": {
    "id": "wVCL6YV67Dk7"
   },
   "outputs": [],
   "source": [
    "y_train_u=y_train_u.reshape(1954660,)"
   ]
  },
  {
   "cell_type": "code",
   "execution_count": 85,
   "metadata": {
    "colab": {
     "base_uri": "https://localhost:8080/"
    },
    "id": "K2GHFOH87NEJ",
    "outputId": "6a36545f-5802-4afb-e2cb-7c59199d0b40"
   },
   "outputs": [
    {
     "data": {
      "text/plain": [
       "(1954660,)"
      ]
     },
     "execution_count": 85,
     "metadata": {},
     "output_type": "execute_result"
    }
   ],
   "source": [
    "y_train_u.shape"
   ]
  },
  {
   "cell_type": "code",
   "execution_count": 86,
   "metadata": {
    "colab": {
     "base_uri": "https://localhost:8080/",
     "height": 440
    },
    "id": "4W8qyiBM4IjI",
    "outputId": "1ae6b218-cb26-4813-f1cf-003e6d65e88c"
   },
   "outputs": [
    {
     "name": "stdout",
     "output_type": "stream",
     "text": [
      "done forest with 20\n",
      "done forest with 30\n",
      "done forest with 40\n",
      "done forest with 50\n",
      "done forest with 60\n",
      "done forest with 70\n",
      "done forest with 80\n",
      "done forest with 90\n",
      "done forest with 100\n"
     ]
    },
    {
     "data": {
      "image/png": "[encoded data removed]",
      "text/plain": [
       "<Figure size 432x288 with 1 Axes>"
      ]
     },
     "metadata": {
      "needs_background": "light"
     },
     "output_type": "display_data"
    }
   ],
   "source": [
    "train_results = []\n",
    "val_results =[]\n",
    "test_results = []\n",
    "\n",
    "train_recall=[]\n",
    "val_recall=[]\n",
    "test_recall=[]\n",
    "\n",
    "train_precision=[]\n",
    "val_precision=[]\n",
    "test_precision=[]\n",
    "\n",
    "train_f1score=[]\n",
    "val_f1score=[]\n",
    "test_f1score=[]\n",
    "\n",
    "\n",
    "list_nb_trees =[20, 30,40,50,60,70,80,90,100]\n",
    "\n",
    "for nb_trees in list_nb_trees:\n",
    "    rf = RandomForestClassifier(n_estimators=nb_trees)\n",
    "    rf.fit(X_train_u, y_train_u)\n",
    "\n",
    "    train_results.append(mean_squared_error(y_train_u, rf.predict(X_train_u)))\n",
    "    val_results.append(mean_squared_error(y_val, rf.predict(X_val)))\n",
    "    test_results.append(mean_squared_error(y_test, rf.predict(X_test)))\n",
    "    \n",
    "    train_recall.append(recall_score(y_train_u, rf.predict(X_train_u)))\n",
    "    val_recall.append(recall_score(y_val, rf.predict(X_val)))\n",
    "    test_recall.append(recall_score(y_test, rf.predict(X_test)))\n",
    "    \n",
    "    train_precision.append(precision_score(y_train_u, rf.predict(X_train_u)))\n",
    "    val_precision.append(precision_score(y_val, rf.predict(X_val)))\n",
    "    test_precision.append(precision_score(y_test, rf.predict(X_test)))\n",
    "    \n",
    "    train_f1score.append(f1_score(y_train_u, rf.predict(X_train_u)))\n",
    "    val_f1score.append(f1_score(y_val, rf.predict(X_val)))\n",
    "    test_f1score.append(f1_score(y_test, rf.predict(X_test)))\n",
    "    \n",
    "    print('done forest with',nb_trees)\n",
    "\n",
    "line1, = plt.plot(list_nb_trees, train_results, color=\"r\", label=\"Training Score\")\n",
    "line2, = plt.plot(list_nb_trees, test_results, color=\"g\", label=\"Testing Score\")\n",
    "\n",
    "plt.legend(handler_map={line1: HandlerLine2D(numpoints=2)})\n",
    "plt.ylabel('MSE')\n",
    "plt.xlabel('n_estimators')\n",
    "plt.show()"
   ]
  },
  {
   "cell_type": "code",
   "execution_count": 87,
   "metadata": {
    "colab": {
     "base_uri": "https://localhost:8080/",
     "height": 295
    },
    "id": "x7Qu1GuY4Qt8",
    "outputId": "3aff6586-edf8-4ede-a548-8f8aa28cd6f6"
   },
   "outputs": [
    {
     "data": {
      "image/png": "[encoded data removed]",
      "text/plain": [
       "<Figure size 432x288 with 1 Axes>"
      ]
     },
     "metadata": {
      "needs_background": "light"
     },
     "output_type": "display_data"
    }
   ],
   "source": [
    "plt.title(\"Results on Train data\")\n",
    "plt.xlabel('No. of trees')\n",
    "plt.plot(list_nb_trees, train_precision, linestyle = 'dashed', color = 'r', label = 'Precision')\n",
    "plt.plot(list_nb_trees, train_recall, linestyle = 'dashed', color = 'b', label = 'Recall')\n",
    "plt.plot(list_nb_trees, train_f1score, linestyle = 'dashed', color = 'g', label = 'F1-measure')\n",
    "plt.legend()\n",
    "plt.show()"
   ]
  },
  {
   "cell_type": "code",
   "execution_count": 88,
   "metadata": {
    "colab": {
     "base_uri": "https://localhost:8080/",
     "height": 295
    },
    "id": "q38m0XYf7Zn0",
    "outputId": "f4a52f4f-a7a3-4a4c-b4b3-0866c04d6ae5"
   },
   "outputs": [
    {
     "data": {
      "image/png": "[encoded data removed]",
      "text/plain": [
       "<Figure size 432x288 with 1 Axes>"
      ]
     },
     "metadata": {
      "needs_background": "light"
     },
     "output_type": "display_data"
    }
   ],
   "source": [
    "plt.title(\"Results on CV dataset\")\n",
    "plt.xlabel('No. of trees')\n",
    "plt.plot(list_nb_trees, val_precision, linestyle = 'dashed', color = 'r', label = 'Precision')\n",
    "plt.plot(list_nb_trees, val_recall, linestyle = 'dashed', color = 'b', label = 'Recall')\n",
    "plt.plot(list_nb_trees, val_f1score, linestyle = 'dashed', color = 'g', label = 'F1-measure')\n",
    "plt.legend()\n",
    "plt.show()"
   ]
  },
  {
   "cell_type": "code",
   "execution_count": 89,
   "metadata": {
    "colab": {
     "base_uri": "https://localhost:8080/",
     "height": 295
    },
    "id": "1GW9FFpH7iew",
    "outputId": "ce2eb6e5-ccbe-4dd6-a3a2-113bfa41594a"
   },
   "outputs": [
    {
     "data": {
      "image/png": "[encoded data removed]",
      "text/plain": [
       "<Figure size 432x288 with 1 Axes>"
      ]
     },
     "metadata": {
      "needs_background": "light"
     },
     "output_type": "display_data"
    }
   ],
   "source": [
    "plt.title(\"Results on Test data\")\n",
    "plt.xlabel('No. of trees')\n",
    "plt.plot(list_nb_trees, test_precision, linestyle = 'dashed', color = 'r', label = 'Precision')\n",
    "plt.plot(list_nb_trees, test_recall, linestyle = 'dashed', color = 'b', label = 'Recall')\n",
    "plt.plot(list_nb_trees, test_f1score, linestyle = 'dashed', color = 'g', label = 'F1-measure')\n",
    "plt.legend()\n",
    "plt.show()"
   ]
  },
  {
   "cell_type": "code",
   "execution_count": 93,
   "metadata": {
    "id": "6AGg5zsL7i_J"
   },
   "outputs": [],
   "source": [
    "def plottingConfusionMatAndRoc(y_test, y_pred,y_prob):\n",
    "\n",
    "    markers = ('s', 'x')\n",
    "    colors = ('red', 'blue')\n",
    "\n",
    "    # Plot confusion matrix\n",
    "    cm = confusion_matrix(y_test, y_pred)\n",
    "    sns.heatmap(cm, annot = True, cbar = False, fmt = \"d\", linewidths = .5, cmap = \"Blues\")\n",
    "    plt.title(\"Confusion Matrix\")\n",
    "    plt.xlabel(\"Predicted class\")\n",
    "    plt.ylabel(\"Actual class\")\n",
    "    plt.figure(figsize=(5, 5))\n",
    "    plt.show()\n",
    "    #fig.tight_layout()\n",
    "\n",
    "    # -----------------------------------------------------\n",
    "    # Plot ROC curve\n",
    "    fpr, tpr, _ = roc_curve(y_test, y_prob)\n",
    "    plt.plot(fpr, tpr, lw = 2, label = 'AUC: {:.2f}'.format(auc(fpr, tpr)))\n",
    "    plt.plot([0, 1], [0, 1],\n",
    "             linestyle = '--',\n",
    "             color = (0.6, 0.6, 0.6),\n",
    "             label = 'Random guessing')\n",
    "    plt.plot([0, 0, 1], [0, 1, 1],\n",
    "             linestyle = ':',\n",
    "             color = 'black', \n",
    "             label = 'Perfect performance')\n",
    "    plt.xlim([-0.05, 1.05])\n",
    "    plt.ylim([-0.05, 1.05])\n",
    "    plt.xlabel('False Positive Rate (FPR)')\n",
    "    plt.ylabel('True Positive Rate (TPR)')\n",
    "    plt.title('Receiver Operator Characteristic (ROC) Curve')\n",
    "    plt.legend(loc = \"lower right\")\n",
    "    plt.figure(figsize=(5, 5))\n",
    "    plt.show()\n",
    "    #----------------------------------------\n",
    "\n",
    "    print(classification_report(y_test, y_pred))"
   ]
  },
  {
   "cell_type": "code",
   "execution_count": 94,
   "metadata": {},
   "outputs": [
    {
     "data": {
      "image/png": "[encoded data removed]",
      "text/plain": [
       "<Figure size 432x288 with 1 Axes>"
      ]
     },
     "metadata": {
      "needs_background": "light"
     },
     "output_type": "display_data"
    },
    {
     "data": {
      "text/plain": [
       "<Figure size 360x360 with 0 Axes>"
      ]
     },
     "metadata": {},
     "output_type": "display_data"
    },
    {
     "data": {
      "image/png": "[encoded data removed]",
      "text/plain": [
       "<Figure size 432x288 with 1 Axes>"
      ]
     },
     "metadata": {
      "needs_background": "light"
     },
     "output_type": "display_data"
    },
    {
     "data": {
      "text/plain": [
       "<Figure size 360x360 with 0 Axes>"
      ]
     },
     "metadata": {},
     "output_type": "display_data"
    },
    {
     "name": "stdout",
     "output_type": "stream",
     "text": [
      "              precision    recall  f1-score   support\n",
      "\n",
      "           0       1.00      1.00      1.00    414330\n",
      "           1       0.87      0.86      0.86      1232\n",
      "\n",
      "    accuracy                           1.00    415562\n",
      "   macro avg       0.93      0.93      0.93    415562\n",
      "weighted avg       1.00      1.00      1.00    415562\n",
      "\n"
     ]
    }
   ],
   "source": [
    "rf = RandomForestClassifier(n_estimators=90)\n",
    "rf.fit(X_train_u, y_train_u)\n",
    "y_pred=rf.predict(X_test)\n",
    "plottingConfusionMatAndRoc(y_test, y_pred,y_prob)"
   ]
  },
  {
   "cell_type": "code",
   "execution_count": null,
   "metadata": {},
   "outputs": [],
   "source": []
  }
 ],
 "metadata": {
  "colab": {
   "name": "F1-2.ipynb",
   "provenance": []
  },
  "kernelspec": {
   "display_name": "Python 3",
   "language": "python",
   "name": "python3"
  },
  "language_info": {
   "codemirror_mode": {
    "name": "ipython",
    "version": 3
   },
   "file_extension": ".py",
   "mimetype": "text/x-python",
   "name": "python",
   "nbconvert_exporter": "python",
   "pygments_lexer": "ipython3",
   "version": "3.7.3"
  }
 },
 "nbformat": 4,
 "nbformat_minor": 1
}
