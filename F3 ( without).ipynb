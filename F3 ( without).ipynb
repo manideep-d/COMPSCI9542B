{
 "cells": [
  {
   "cell_type": "code",
   "execution_count": 1,
   "metadata": {},
   "outputs": [],
   "source": [
    "import pandas as pd\n",
    "import numpy as np\n",
    "import matplotlib.pyplot as plt\n",
    "from sklearn.model_selection import train_test_split\n",
    "from sklearn.preprocessing import StandardScaler\n",
    "from sklearn.metrics import accuracy_score,precision_score,recall_score,f1_score, classification_report,roc_curve,auc,confusion_matrix\n",
    "from sklearn.ensemble import RandomForestClassifier\n",
    "from sklearn.metrics import mean_squared_error\n",
    "import matplotlib.pyplot as plt\n",
    "from matplotlib.legend_handler import HandlerLine2D\n",
    "from sklearn import preprocessing\n",
    "from sklearn.decomposition import PCA\n",
    "import seaborn as sns\n",
    "\n",
    "%matplotlib inline"
   ]
  },
  {
   "cell_type": "code",
   "execution_count": 2,
   "metadata": {},
   "outputs": [],
   "source": [
    "data = pd.read_csv('data.csv')"
   ]
  },
  {
   "cell_type": "code",
   "execution_count": 3,
   "metadata": {},
   "outputs": [
    {
     "data": {
      "text/plain": [
       "(6362620, 11)"
      ]
     },
     "execution_count": 3,
     "metadata": {},
     "output_type": "execute_result"
    }
   ],
   "source": [
    "data.shape"
   ]
  },
  {
   "cell_type": "code",
   "execution_count": 4,
   "metadata": {},
   "outputs": [],
   "source": [
    "data=data.drop(['newbalanceOrig', 'newbalanceDest','nameOrig', 'nameDest'], axis = 1)"
   ]
  },
  {
   "cell_type": "code",
   "execution_count": 5,
   "metadata": {},
   "outputs": [],
   "source": [
    "data=data.loc[(data['type']== 'TRANSFER') | (data['type']== 'CASH_OUT') , :]"
   ]
  },
  {
   "cell_type": "code",
   "execution_count": 6,
   "metadata": {},
   "outputs": [
    {
     "data": {
      "text/html": [
       "<div>\n",
       "<style scoped>\n",
       "    .dataframe tbody tr th:only-of-type {\n",
       "        vertical-align: middle;\n",
       "    }\n",
       "\n",
       "    .dataframe tbody tr th {\n",
       "        vertical-align: top;\n",
       "    }\n",
       "\n",
       "    .dataframe thead th {\n",
       "        text-align: right;\n",
       "    }\n",
       "</style>\n",
       "<table border=\"1\" class=\"dataframe\">\n",
       "  <thead>\n",
       "    <tr style=\"text-align: right;\">\n",
       "      <th></th>\n",
       "      <th>step</th>\n",
       "      <th>type</th>\n",
       "      <th>amount</th>\n",
       "      <th>oldbalanceOrg</th>\n",
       "      <th>oldbalanceDest</th>\n",
       "      <th>isFraud</th>\n",
       "      <th>isFlaggedFraud</th>\n",
       "    </tr>\n",
       "  </thead>\n",
       "  <tbody>\n",
       "    <tr>\n",
       "      <th>2</th>\n",
       "      <td>1</td>\n",
       "      <td>TRANSFER</td>\n",
       "      <td>181.00</td>\n",
       "      <td>181.0</td>\n",
       "      <td>0.0</td>\n",
       "      <td>1</td>\n",
       "      <td>0</td>\n",
       "    </tr>\n",
       "    <tr>\n",
       "      <th>3</th>\n",
       "      <td>1</td>\n",
       "      <td>CASH_OUT</td>\n",
       "      <td>181.00</td>\n",
       "      <td>181.0</td>\n",
       "      <td>21182.0</td>\n",
       "      <td>1</td>\n",
       "      <td>0</td>\n",
       "    </tr>\n",
       "    <tr>\n",
       "      <th>15</th>\n",
       "      <td>1</td>\n",
       "      <td>CASH_OUT</td>\n",
       "      <td>229133.94</td>\n",
       "      <td>15325.0</td>\n",
       "      <td>5083.0</td>\n",
       "      <td>0</td>\n",
       "      <td>0</td>\n",
       "    </tr>\n",
       "    <tr>\n",
       "      <th>19</th>\n",
       "      <td>1</td>\n",
       "      <td>TRANSFER</td>\n",
       "      <td>215310.30</td>\n",
       "      <td>705.0</td>\n",
       "      <td>22425.0</td>\n",
       "      <td>0</td>\n",
       "      <td>0</td>\n",
       "    </tr>\n",
       "    <tr>\n",
       "      <th>24</th>\n",
       "      <td>1</td>\n",
       "      <td>TRANSFER</td>\n",
       "      <td>311685.89</td>\n",
       "      <td>10835.0</td>\n",
       "      <td>6267.0</td>\n",
       "      <td>0</td>\n",
       "      <td>0</td>\n",
       "    </tr>\n",
       "  </tbody>\n",
       "</table>\n",
       "</div>"
      ],
      "text/plain": [
       "    step      type     amount  oldbalanceOrg  oldbalanceDest  isFraud  \\\n",
       "2      1  TRANSFER     181.00          181.0             0.0        1   \n",
       "3      1  CASH_OUT     181.00          181.0         21182.0        1   \n",
       "15     1  CASH_OUT  229133.94        15325.0          5083.0        0   \n",
       "19     1  TRANSFER  215310.30          705.0         22425.0        0   \n",
       "24     1  TRANSFER  311685.89        10835.0          6267.0        0   \n",
       "\n",
       "    isFlaggedFraud  \n",
       "2                0  \n",
       "3                0  \n",
       "15               0  \n",
       "19               0  \n",
       "24               0  "
      ]
     },
     "execution_count": 6,
     "metadata": {},
     "output_type": "execute_result"
    }
   ],
   "source": [
    "data.head()"
   ]
  },
  {
   "cell_type": "code",
   "execution_count": 7,
   "metadata": {},
   "outputs": [
    {
     "data": {
      "text/html": [
       "<div>\n",
       "<style scoped>\n",
       "    .dataframe tbody tr th:only-of-type {\n",
       "        vertical-align: middle;\n",
       "    }\n",
       "\n",
       "    .dataframe tbody tr th {\n",
       "        vertical-align: top;\n",
       "    }\n",
       "\n",
       "    .dataframe thead th {\n",
       "        text-align: right;\n",
       "    }\n",
       "</style>\n",
       "<table border=\"1\" class=\"dataframe\">\n",
       "  <thead>\n",
       "    <tr style=\"text-align: right;\">\n",
       "      <th></th>\n",
       "      <th>step</th>\n",
       "      <th>amount</th>\n",
       "      <th>oldbalanceOrg</th>\n",
       "      <th>oldbalanceDest</th>\n",
       "      <th>isFraud</th>\n",
       "      <th>isFlaggedFraud</th>\n",
       "      <th>type_CASH_OUT</th>\n",
       "      <th>type_TRANSFER</th>\n",
       "    </tr>\n",
       "  </thead>\n",
       "  <tbody>\n",
       "    <tr>\n",
       "      <th>2</th>\n",
       "      <td>1</td>\n",
       "      <td>181.00</td>\n",
       "      <td>181.0</td>\n",
       "      <td>0.0</td>\n",
       "      <td>1</td>\n",
       "      <td>0</td>\n",
       "      <td>0</td>\n",
       "      <td>1</td>\n",
       "    </tr>\n",
       "    <tr>\n",
       "      <th>3</th>\n",
       "      <td>1</td>\n",
       "      <td>181.00</td>\n",
       "      <td>181.0</td>\n",
       "      <td>21182.0</td>\n",
       "      <td>1</td>\n",
       "      <td>0</td>\n",
       "      <td>1</td>\n",
       "      <td>0</td>\n",
       "    </tr>\n",
       "    <tr>\n",
       "      <th>15</th>\n",
       "      <td>1</td>\n",
       "      <td>229133.94</td>\n",
       "      <td>15325.0</td>\n",
       "      <td>5083.0</td>\n",
       "      <td>0</td>\n",
       "      <td>0</td>\n",
       "      <td>1</td>\n",
       "      <td>0</td>\n",
       "    </tr>\n",
       "    <tr>\n",
       "      <th>19</th>\n",
       "      <td>1</td>\n",
       "      <td>215310.30</td>\n",
       "      <td>705.0</td>\n",
       "      <td>22425.0</td>\n",
       "      <td>0</td>\n",
       "      <td>0</td>\n",
       "      <td>0</td>\n",
       "      <td>1</td>\n",
       "    </tr>\n",
       "    <tr>\n",
       "      <th>24</th>\n",
       "      <td>1</td>\n",
       "      <td>311685.89</td>\n",
       "      <td>10835.0</td>\n",
       "      <td>6267.0</td>\n",
       "      <td>0</td>\n",
       "      <td>0</td>\n",
       "      <td>0</td>\n",
       "      <td>1</td>\n",
       "    </tr>\n",
       "  </tbody>\n",
       "</table>\n",
       "</div>"
      ],
      "text/plain": [
       "    step     amount  oldbalanceOrg  oldbalanceDest  isFraud  isFlaggedFraud  \\\n",
       "2      1     181.00          181.0             0.0        1               0   \n",
       "3      1     181.00          181.0         21182.0        1               0   \n",
       "15     1  229133.94        15325.0          5083.0        0               0   \n",
       "19     1  215310.30          705.0         22425.0        0               0   \n",
       "24     1  311685.89        10835.0          6267.0        0               0   \n",
       "\n",
       "    type_CASH_OUT  type_TRANSFER  \n",
       "2               0              1  \n",
       "3               1              0  \n",
       "15              1              0  \n",
       "19              0              1  \n",
       "24              0              1  "
      ]
     },
     "execution_count": 7,
     "metadata": {},
     "output_type": "execute_result"
    }
   ],
   "source": [
    "data=pd.get_dummies(data, columns=['type'], prefix = ['type'])\n",
    "data.head()"
   ]
  },
  {
   "cell_type": "code",
   "execution_count": 8,
   "metadata": {},
   "outputs": [],
   "source": [
    "# Features\n",
    "X=data['step','amount','oldbalanceOrg','oldbalanceDest','isFlaggedFraud','type_CASH_OUT','type_TRANSFER']  \n",
    "\n",
    "# Labels\n",
    "y=data['isFraud'] \n",
    "\n",
    "# Split dataset into training set validation set and test set with a ratio of 70%,15%,15%\n",
    "\n",
    "X_train, X_test, y_train, y_test = train_test_split( X, y, stratify=y , test_size=0.30, random_state=12)\n",
    "X_val, X_test, y_val, y_test = train_test_split(X_test, y_test, stratify=y_test , test_size=0.50, random_state=12)"
   ]
  },
  {
   "cell_type": "code",
   "execution_count": 10,
   "metadata": {},
   "outputs": [
    {
     "name": "stdout",
     "output_type": "stream",
     "text": [
      "done forest with 20\n",
      "done forest with 30\n",
      "done forest with 40\n",
      "done forest with 50\n",
      "done forest with 60\n",
      "done forest with 70\n",
      "done forest with 80\n",
      "done forest with 90\n",
      "done forest with 100\n"
     ]
    },
    {
     "data": {
      "image/png": "[encoded data removed]",
      "text/plain": [
       "<Figure size 432x288 with 1 Axes>"
      ]
     },
     "metadata": {
      "needs_background": "light"
     },
     "output_type": "display_data"
    }
   ],
   "source": [
    "train_results = []\n",
    "val_results =[]\n",
    "test_results = []\n",
    "\n",
    "train_recall=[]\n",
    "val_recall=[]\n",
    "test_recall=[]\n",
    "\n",
    "train_precision=[]\n",
    "val_precision=[]\n",
    "test_precision=[]\n",
    "\n",
    "train_f1score=[]\n",
    "val_f1score=[]\n",
    "test_f1score=[]\n",
    "\n",
    "\n",
    "list_nb_trees = [20, 30,40,50,60,70,80,90,100]\n",
    "\n",
    "for nb_trees in list_nb_trees:\n",
    "    rf = RandomForestClassifier(n_estimators=nb_trees)\n",
    "    rf.fit(X_train, y_train)\n",
    "\n",
    "    train_results.append(mean_squared_error(y_train, rf.predict(X_train)))\n",
    "    val_results.append(mean_squared_error(y_val, rf.predict(X_val)))\n",
    "    test_results.append(mean_squared_error(y_test, rf.predict(X_test)))\n",
    "    \n",
    "    train_recall.append(recall_score(y_train, rf.predict(X_train)))\n",
    "    val_recall.append(recall_score(y_val, rf.predict(X_val)))\n",
    "    test_recall.append(recall_score(y_test, rf.predict(X_test)))\n",
    "    \n",
    "    train_precision.append(precision_score(y_train, rf.predict(X_train)))\n",
    "    val_precision.append(precision_score(y_val, rf.predict(X_val)))\n",
    "    test_precision.append(precision_score(y_test, rf.predict(X_test)))\n",
    "    \n",
    "    train_f1score.append(f1_score(y_train, rf.predict(X_train)))\n",
    "    val_f1score.append(f1_score(y_val, rf.predict(X_val)))\n",
    "    test_f1score.append(f1_score(y_test, rf.predict(X_test)))\n",
    "    \n",
    "    print('done forest with',nb_trees)\n",
    "\n",
    "line1, = plt.plot(list_nb_trees, train_results, color=\"r\", label=\"Training Score\")\n",
    "line2, = plt.plot(list_nb_trees, test_results, color=\"g\", label=\"Testing Score\")\n",
    "\n",
    "plt.legend(handler_map={line1: HandlerLine2D(numpoints=2)})\n",
    "plt.ylabel('MSE')\n",
    "plt.xlabel('n_estimators')\n",
    "plt.show()"
   ]
  },
  {
   "cell_type": "code",
   "execution_count": 11,
   "metadata": {},
   "outputs": [
    {
     "data": {
      "image/png": "[encoded data removed]",
      "text/plain": [
       "<Figure size 432x288 with 1 Axes>"
      ]
     },
     "metadata": {
      "needs_background": "light"
     },
     "output_type": "display_data"
    }
   ],
   "source": [
    "plt.title(\"Results on CV dataset\")\n",
    "plt.xlabel('No. of trees')\n",
    "plt.plot(list_nb_trees, val_precision, linestyle = 'dashed', color = 'r', label = 'Precision')\n",
    "plt.plot(list_nb_trees, val_recall, linestyle = 'dashed', color = 'b', label = 'Recall')\n",
    "plt.plot(list_nb_trees, val_f1score, linestyle = 'dashed', color = 'g', label = 'F1-measure')\n",
    "plt.legend()\n",
    "plt.show()"
   ]
  },
  {
   "cell_type": "code",
   "execution_count": 12,
   "metadata": {},
   "outputs": [
    {
     "data": {
      "image/png": "[encoded data removed]",
      "text/plain": [
       "<Figure size 432x288 with 1 Axes>"
      ]
     },
     "metadata": {
      "needs_background": "light"
     },
     "output_type": "display_data"
    }
   ],
   "source": [
    "plt.title(\"Results on Test data\")\n",
    "plt.xlabel('No. of trees')\n",
    "plt.plot(list_nb_trees, test_precision, linestyle = 'dashed', color = 'r', label = 'Precision')\n",
    "plt.plot(list_nb_trees, test_recall, linestyle = 'dashed', color = 'b', label = 'Recall')\n",
    "plt.plot(list_nb_trees, test_f1score, linestyle = 'dashed', color = 'g', label = 'F1-measure')\n",
    "plt.legend()\n",
    "plt.show()"
   ]
  },
  {
   "cell_type": "code",
   "execution_count": 17,
   "metadata": {},
   "outputs": [],
   "source": [
    "def plottingConfusionMatAndRoc(y_test, y_pred,y_prob):\n",
    "\n",
    "    markers = ('s', 'x')\n",
    "    colors = ('red', 'blue')\n",
    "\n",
    "    # Plot confusion matrix\n",
    "    cm = confusion_matrix(y_test, y_pred)\n",
    "    sns.heatmap(cm, annot = True, cbar = False, fmt = \"d\", linewidths = .5, cmap = \"Blues\")\n",
    "    plt.title(\"Confusion Matrix\")\n",
    "    plt.xlabel(\"Predicted class\")\n",
    "    plt.ylabel(\"Actual class\")\n",
    "    plt.figure(figsize=(5, 5))\n",
    "    plt.show()\n",
    "    #fig.tight_layout()\n",
    "\n",
    "    # -----------------------------------------------------\n",
    "    # Plot ROC curve\n",
    "    fpr, tpr, _ = roc_curve(y_test, y_prob)\n",
    "    plt.plot(fpr, tpr, lw = 2, label = 'AUC: {:.2f}'.format(auc(fpr, tpr)))\n",
    "    plt.plot([0, 1], [0, 1],\n",
    "             linestyle = '--',\n",
    "             color = (0.6, 0.6, 0.6),\n",
    "             label = 'Random guessing')\n",
    "    plt.plot([0, 0, 1], [0, 1, 1],\n",
    "             linestyle = ':',\n",
    "             color = 'black', \n",
    "             label = 'Perfect performance')\n",
    "    plt.xlim([-0.05, 1.05])\n",
    "    plt.ylim([-0.05, 1.05])\n",
    "    plt.xlabel('False Positive Rate (FPR)')\n",
    "    plt.ylabel('True Positive Rate (TPR)')\n",
    "    plt.title('Receiver Operator Characteristic (ROC) Curve')\n",
    "    plt.legend(loc = \"lower right\")\n",
    "    plt.figure(figsize=(5, 5))\n",
    "    plt.show()\n",
    "    #----------------------------------------\n",
    "\n",
    "    print(classification_report(y_test, y_pred))"
   ]
  },
  {
   "cell_type": "code",
   "execution_count": 18,
   "metadata": {},
   "outputs": [
    {
     "data": {
      "image/png": "[encoded data removed]",
      "text/plain": [
       "<Figure size 432x288 with 1 Axes>"
      ]
     },
     "metadata": {
      "needs_background": "light"
     },
     "output_type": "display_data"
    },
    {
     "data": {
      "text/plain": [
       "<Figure size 360x360 with 0 Axes>"
      ]
     },
     "metadata": {},
     "output_type": "display_data"
    },
    {
     "data": {
      "image/png": "[encoded data removed]",
      "text/plain": [
       "<Figure size 432x288 with 1 Axes>"
      ]
     },
     "metadata": {
      "needs_background": "light"
     },
     "output_type": "display_data"
    },
    {
     "data": {
      "text/plain": [
       "<Figure size 360x360 with 0 Axes>"
      ]
     },
     "metadata": {},
     "output_type": "display_data"
    },
    {
     "name": "stdout",
     "output_type": "stream",
     "text": [
      "              precision    recall  f1-score   support\n",
      "\n",
      "           0       1.00      1.00      1.00    414330\n",
      "           1       0.92      0.76      0.84      1232\n",
      "\n",
      "    accuracy                           1.00    415562\n",
      "   macro avg       0.96      0.88      0.92    415562\n",
      "weighted avg       1.00      1.00      1.00    415562\n",
      "\n"
     ]
    }
   ],
   "source": [
    "rf = RandomForestClassifier(n_estimators=80)\n",
    "rf.fit(X_train, y_train)\n",
    "y_pred=rf.predict(X_test)\n",
    "plottingConfusionMatAndRoc(y_test, y_pred,y_prob)"
   ]
  },
  {
   "cell_type": "code",
   "execution_count": null,
   "metadata": {},
   "outputs": [],
   "source": []
  }
 ],
 "metadata": {
  "kernelspec": {
   "display_name": "Python 3",
   "language": "python",
   "name": "python3"
  },
  "language_info": {
   "codemirror_mode": {
    "name": "ipython",
    "version": 3
   },
   "file_extension": ".py",
   "mimetype": "text/x-python",
   "name": "python",
   "nbconvert_exporter": "python",
   "pygments_lexer": "ipython3",
   "version": "3.7.3"
  }
 },
 "nbformat": 4,
 "nbformat_minor": 2
}
